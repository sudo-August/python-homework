{
 "cells": [
  {
   "source": [
    "# PyBank"
   ],
   "cell_type": "markdown",
   "metadata": {}
  },
  {
   "source": [
    "## Package imports"
   ],
   "cell_type": "markdown",
   "metadata": {}
  },
  {
   "cell_type": "code",
   "execution_count": 104,
   "metadata": {},
   "outputs": [],
   "source": [
    "import csv\n",
    "import numpy as np\n",
    "from pathlib import Path"
   ]
  },
  {
   "source": [
    "## Define Path"
   ],
   "cell_type": "markdown",
   "metadata": {}
  },
  {
   "cell_type": "code",
   "execution_count": 105,
   "metadata": {},
   "outputs": [],
   "source": [
    "csvpath = Path('./budget_data.csv')"
   ]
  },
  {
   "source": [
    "## Initialize main variables"
   ],
   "cell_type": "markdown",
   "metadata": {}
  },
  {
   "cell_type": "code",
   "execution_count": 106,
   "metadata": {},
   "outputs": [],
   "source": [
    "total_months = 0\n",
    "profit_loss = 0\n",
    "average_change = 0\n",
    "increase_greatest = (\"\",0)\n",
    "decrease_greatest = (\"\",0)\n",
    "\n",
    "all_pl = []"
   ]
  },
  {
   "source": [
    "## function to format the data\n",
    "split the string read from the file<br>\n",
    "change the type of the second item to an integer<br>\n",
    "return **false** if an error is thrown"
   ],
   "cell_type": "markdown",
   "metadata": {}
  },
  {
   "cell_type": "code",
   "execution_count": 107,
   "metadata": {},
   "outputs": [],
   "source": [
    "def formatData(line):\n",
    "    data = line.split(',')\n",
    "\n",
    "    try:\n",
    "        data[1] = int(data[1])\n",
    "    except ValueError:\n",
    "        return False\n",
    "\n",
    "    all_pl.append(record[1])\n",
    "    \n",
    "    return data"
   ]
  },
  {
   "source": [
    "## Working with the data\n",
    "open the file as *data*<br>\n",
    "iterate over the lines<br>\n",
    "total the months<br>\n",
    "format the data<br>\n",
    "add profit/loss to *profit_loss*<br>\n",
    "compare record p/l with *increase_greatest* and if it is greater assign that record to *increase_greatest*<br>\n",
    "compare record p/l with *decrease_greatest* and if it is lesser assign the record to *decrease_greatest*<br>\n"
   ],
   "cell_type": "markdown",
   "metadata": {}
  },
  {
   "cell_type": "code",
   "execution_count": 108,
   "metadata": {
    "tags": []
   },
   "outputs": [],
   "source": [
    "with open(csvpath, 'r') as data:\n",
    "    for line in data:\n",
    "                \n",
    "        total_months += 1\n",
    "        \n",
    "        if formatData(line):\n",
    "            record = formatData(line)\n",
    "            profit_loss += record[1]\n",
    "            if record[1] > increase_greatest[1]:\n",
    "                increase_greatest = record\n",
    "            elif record[1] < decrease_greatest[1]:\n",
    "                decrease_greatest = record\n",
    "\n",
    "average_change = round(np.std(all_pl), 2)"
   ]
  },
  {
   "source": [
    "## The resulting analysis"
   ],
   "cell_type": "markdown",
   "metadata": {}
  },
  {
   "cell_type": "code",
   "execution_count": 109,
   "metadata": {
    "tags": []
   },
   "outputs": [
    {
     "output_type": "stream",
     "name": "stdout",
     "text": "Financial Analysis\n------------------\nTotal Months: 87\nTotal: $38382578\nAverage Change: $533230.47\nGreatest Increase in Profits: Feb-2012 ($1170593)\nGreatest Decrease in Profits: Sep-2013 ($-1196225)\n"
    }
   ],
   "source": [
    "print(\"Financial Analysis\")\n",
    "print(\"------------------\")\n",
    "print(f\"Total Months: {total_months}\")\n",
    "print(f\"Total: ${profit_loss}\")\n",
    "print(f\"Average Change: ${average_change}\")\n",
    "print(f\"Greatest Increase in Profits: {increase_greatest[0]} (${increase_greatest[1]})\")\n",
    "print(f\"Greatest Decrease in Profits: {decrease_greatest[0]} (${decrease_greatest[1]})\")"
   ]
  },
  {
   "cell_type": "code",
   "execution_count": null,
   "metadata": {},
   "outputs": [],
   "source": []
  }
 ],
 "metadata": {
  "kernelspec": {
   "display_name": "Python 3.8.5 64-bit ('data': conda)",
   "language": "python",
   "name": "python_defaultSpec_1600728132318"
  },
  "language_info": {
   "codemirror_mode": {
    "name": "ipython",
    "version": 3
   },
   "file_extension": ".py",
   "mimetype": "text/x-python",
   "name": "python",
   "nbconvert_exporter": "python",
   "pygments_lexer": "ipython3",
   "version": "3.8.5-final"
  }
 },
 "nbformat": 4,
 "nbformat_minor": 4
}