{
 "cells": [
  {
   "source": [
    "# PyRamen"
   ],
   "cell_type": "markdown",
   "metadata": {}
  },
  {
   "cell_type": "code",
   "execution_count": null,
   "metadata": {},
   "outputs": [],
   "source": [
    "# @TODO: Import libraries\n",
    "import csv\n",
    "from pathlib import Path"
   ]
  },
  {
   "cell_type": "code",
   "execution_count": 3,
   "metadata": {},
   "outputs": [],
   "source": [
    "# @TODO: Set file paths for menu_data.csv and sales_data.csv\n",
    "menu_filepath = Path('./data/menu_data.csv')\n",
    "sales_filepath = Path('./data/sales_data.csv')"
   ]
  },
  {
   "cell_type": "code",
   "execution_count": 4,
   "metadata": {},
   "outputs": [],
   "source": [
    "# @TODO: Initialize list objects to hold our menu and sales data\n",
    "menu = []\n",
    "sales = []"
   ]
  },
  {
   "cell_type": "code",
   "execution_count": 5,
   "metadata": {
    "tags": []
   },
   "outputs": [],
   "source": [
    "# @TODO: Read in the menu data into the menu list\n",
    "with open(menu_filepath, 'r') as menu_data_raw:\n",
    "    next(menu_data_raw)\n",
    "    menu_data = csv.reader(menu_data_raw)\n",
    "    for item in menu_data:\n",
    "        menu.append(item)\n"
   ]
  },
  {
   "cell_type": "code",
   "execution_count": 6,
   "metadata": {},
   "outputs": [],
   "source": [
    "# @TODO: Read in the sales data into the sales list\n",
    "with open(sales_filepath, 'r') as sales_data_raw:\n",
    "    next(sales_data_raw)\n",
    "    sales_data = csv.reader(sales_data_raw)\n",
    "    for item in sales_data:\n",
    "        sales.append(item)"
   ]
  },
  {
   "cell_type": "code",
   "execution_count": 15,
   "metadata": {},
   "outputs": [],
   "source": [
    "report = {}\n",
    "row_count = 0"
   ]
  },
  {
   "cell_type": "code",
   "execution_count": 20,
   "metadata": {},
   "outputs": [],
   "source": [
    "def get_details(item_name):\n",
    "    price = 0\n",
    "    cost = 0\n",
    "    for item in menu:\n",
    "        if item_name in item:\n",
    "            price = int(item[3])\n",
    "            cost = int(item[4])\n",
    "    return price, cost"
   ]
  },
  {
   "cell_type": "code",
   "execution_count": 21,
   "metadata": {
    "tags": [
     "outputPrepend"
    ]
   },
   "outputs": [
    {
     "output_type": "stream",
     "name": "stdout",
     "text": " 73967, date = 12-31-2018, credit_card_number = 2717976417051629, quantity = 1, menu_item = burnt garlic tonkotsu ramen\nline_item_id = 73968, date = 12-31-2018, credit_card_number = 2717976417051629, quantity = 1, menu_item = burnt garlic tonkotsu ramen\nline_item_id = 73969, date = 12-31-2018, credit_card_number = 7723449125453287, quantity = 1, menu_item = tori paitan ramen\nline_item_id = 73970, date = 12-31-2018, credit_card_number = 7723449125453287, quantity = 1, menu_item = tori paitan ramen\nline_item_id = 73971, date = 12-31-2018, credit_card_number = 3125458480099328, quantity = 1, menu_item = tonkotsu ramen\nline_item_id = 73972, date = 12-31-2018, credit_card_number = 3125458480099328, quantity = 1, menu_item = tonkotsu ramen\nline_item_id = 73973, date = 12-31-2018, credit_card_number = 1711785263136921, quantity = 1, menu_item = miso crab ramen\nline_item_id = 73974, date = 12-31-2018, credit_card_number = 1711785263136921, quantity = 1, menu_item = miso crab ramen\nline_item_id = 73975, date = 12-31-2018, credit_card_number = 265827176843534, quantity = 2, menu_item = vegetarian curry + king trumpet mushroom ramen\nline_item_id = 73976, date = 12-31-2018, credit_card_number = 265827176843534, quantity = 2, menu_item = vegetarian curry + king trumpet mushroom ramen\nline_item_id = 73977, date = 12-31-2018, credit_card_number = 8872272369902134, quantity = 1, menu_item = burnt garlic tonkotsu ramen\nline_item_id = 73978, date = 12-31-2018, credit_card_number = 8872272369902134, quantity = 1, menu_item = burnt garlic tonkotsu ramen\nline_item_id = 73979, date = 12-31-2018, credit_card_number = 899335907865201, quantity = 1, menu_item = vegetarian spicy miso\nline_item_id = 73980, date = 12-31-2018, credit_card_number = 899335907865201, quantity = 1, menu_item = vegetarian spicy miso\nline_item_id = 73981, date = 12-31-2018, credit_card_number = 291198679010682, quantity = 1, menu_item = truffle butter ramen\nline_item_id = 73982, date = 12-31-2018, credit_card_number = 291198679010682, quantity = 1, menu_item = truffle butter ramen\nline_item_id = 73983, date = 12-31-2018, credit_card_number = 8856608136652545, quantity = 1, menu_item = nagomi shoyu\nline_item_id = 73984, date = 12-31-2018, credit_card_number = 8856608136652545, quantity = 1, menu_item = nagomi shoyu\nline_item_id = 73985, date = 12-31-2018, credit_card_number = 3150340589197932, quantity = 1, menu_item = nagomi shoyu\nline_item_id = 73986, date = 12-31-2018, credit_card_number = 3150340589197932, quantity = 1, menu_item = nagomi shoyu\nline_item_id = 73987, date = 12-31-2018, credit_card_number = 5775687460151781, quantity = 1, menu_item = miso crab ramen\nline_item_id = 73988, date = 12-31-2018, credit_card_number = 5775687460151781, quantity = 1, menu_item = miso crab ramen\nline_item_id = 73989, date = 12-31-2018, credit_card_number = 9370771523174605, quantity = 1, menu_item = spicy miso ramen\nline_item_id = 73990, date = 12-31-2018, credit_card_number = 9370771523174605, quantity = 1, menu_item = spicy miso ramen\nline_item_id = 73991, date = 12-31-2018, credit_card_number = 3638148551268225, quantity = 1, menu_item = vegetarian spicy miso\nline_item_id = 73992, date = 12-31-2018, credit_card_number = 3638148551268225, quantity = 1, menu_item = vegetarian spicy miso\nline_item_id = 73993, date = 12-31-2018, credit_card_number = 6985079197638963, quantity = 1, menu_item = miso crab ramen\nline_item_id = 73994, date = 12-31-2018, credit_card_number = 6985079197638963, quantity = 1, menu_item = miso crab ramen\nline_item_id = 73995, date = 12-31-2018, credit_card_number = 8667107494331585, quantity = 1, menu_item = spicy miso ramen\nline_item_id = 73996, date = 12-31-2018, credit_card_number = 8667107494331585, quantity = 1, menu_item = spicy miso ramen\nline_item_id = 73997, date = 12-31-2018, credit_card_number = 4773976952083319, quantity = 3, menu_item = vegetarian spicy miso\nline_item_id = 73998, date = 12-31-2018, credit_card_number = 4773976952083319, quantity = 3, menu_item = vegetarian spicy miso\nline_item_id = 73999, date = 12-31-2018, credit_card_number = 7149009297454140, quantity = 4, menu_item = truffle butter ramen\nline_item_id = 74000, date = 12-31-2018, credit_card_number = 7149009297454140, quantity = 4, menu_item = truffle butter ramen\nline_item_id = 74001, date = 12-31-2018, credit_card_number = 9919788788224883, quantity = 1, menu_item = spicy miso ramen\nline_item_id = 74002, date = 12-31-2018, credit_card_number = 9919788788224883, quantity = 1, menu_item = spicy miso ramen\nline_item_id = 74003, date = 12-31-2018, credit_card_number = 3984840691852411, quantity = 1, menu_item = vegetarian curry + king trumpet mushroom ramen\nline_item_id = 74004, date = 12-31-2018, credit_card_number = 3984840691852411, quantity = 1, menu_item = vegetarian curry + king trumpet mushroom ramen\nline_item_id = 74005, date = 12-31-2018, credit_card_number = 7349133459084047, quantity = 1, menu_item = spicy miso ramen\nline_item_id = 74006, date = 12-31-2018, credit_card_number = 7349133459084047, quantity = 1, menu_item = spicy miso ramen\nline_item_id = 74007, date = 12-31-2018, credit_card_number = 4286868988719826, quantity = 2, menu_item = vegetarian curry + king trumpet mushroom ramen\nline_item_id = 74008, date = 12-31-2018, credit_card_number = 4286868988719826, quantity = 2, menu_item = vegetarian curry + king trumpet mushroom ramen\nline_item_id = 74009, date = 12-31-2018, credit_card_number = 3254873492314332, quantity = 1, menu_item = miso crab ramen\nline_item_id = 74010, date = 12-31-2018, credit_card_number = 3254873492314332, quantity = 1, menu_item = miso crab ramen\nline_item_id = 74011, date = 12-31-2018, credit_card_number = 1973920297171442, quantity = 2, menu_item = tori paitan ramen\nline_item_id = 74012, date = 12-31-2018, credit_card_number = 1973920297171442, quantity = 2, menu_item = tori paitan ramen\nline_item_id = 74013, date = 12-31-2018, credit_card_number = 8010983107118588, quantity = 1, menu_item = spicy miso ramen\nline_item_id = 74014, date = 12-31-2018, credit_card_number = 8010983107118588, quantity = 1, menu_item = spicy miso ramen\nline_item_id = 74015, date = 12-31-2018, credit_card_number = 5974504126807006, quantity = 1, menu_item = vegetarian spicy miso\nline_item_id = 74016, date = 12-31-2018, credit_card_number = 5974504126807006, quantity = 1, menu_item = vegetarian spicy miso\nline_item_id = 74017, date = 12-31-2018, credit_card_number = 1300639714141442, quantity = 2, menu_item = vegetarian spicy miso\nline_item_id = 74018, date = 12-31-2018, credit_card_number = 1300639714141442, quantity = 2, menu_item = vegetarian spicy miso\nline_item_id = 74019, date = 12-31-2018, credit_card_number = 4802468108571730, quantity = 1, menu_item = soft-shell miso crab ramen\nline_item_id = 74020, date = 12-31-2018, credit_card_number = 4802468108571730, quantity = 1, menu_item = soft-shell miso crab ramen\nline_item_id = 74021, date = 12-31-2018, credit_card_number = 3340027141744962, quantity = 2, menu_item = burnt garlic tonkotsu ramen\nline_item_id = 74022, date = 12-31-2018, credit_card_number = 3340027141744962, quantity = 2, menu_item = burnt garlic tonkotsu ramen\nline_item_id = 74023, date = 12-31-2018, credit_card_number = 8028924930690130, quantity = 1, menu_item = miso crab ramen\nline_item_id = 74024, date = 12-31-2018, credit_card_number = 8028924930690130, quantity = 1, menu_item = miso crab ramen\nline_item_id = 74025, date = 12-31-2018, credit_card_number = 4404274864240810, quantity = 1, menu_item = tori paitan ramen\nline_item_id = 74026, date = 12-31-2018, credit_card_number = 4404274864240810, quantity = 1, menu_item = tori paitan ramen\nline_item_id = 74027, date = 12-31-2018, credit_card_number = 6228520607204869, quantity = 1, menu_item = nagomi shoyu\nline_item_id = 74028, date = 12-31-2018, credit_card_number = 6228520607204869, quantity = 1, menu_item = nagomi shoyu\nline_item_id = 74029, date = 12-31-2018, credit_card_number = 5611642202593518, quantity = 1, menu_item = tonkotsu ramen\nline_item_id = 74030, date = 12-31-2018, credit_card_number = 5611642202593518, quantity = 1, menu_item = tonkotsu ramen\nline_item_id = 74031, date = 12-31-2018, credit_card_number = 2297464398641424, quantity = 1, menu_item = tonkotsu ramen\nline_item_id = 74032, date = 12-31-2018, credit_card_number = 2297464398641424, quantity = 1, menu_item = tonkotsu ramen\nline_item_id = 74033, date = 12-31-2018, credit_card_number = 9750957466915125, quantity = 1, menu_item = soft-shell miso crab ramen\nline_item_id = 74034, date = 12-31-2018, credit_card_number = 9750957466915125, quantity = 1, menu_item = soft-shell miso crab ramen\nline_item_id = 74035, date = 12-31-2018, credit_card_number = 8180187169868389, quantity = 1, menu_item = tori paitan ramen\nline_item_id = 74036, date = 12-31-2018, credit_card_number = 8180187169868389, quantity = 1, menu_item = tori paitan ramen\nline_item_id = 74037, date = 12-31-2018, credit_card_number = 7362804082005607, quantity = 2, menu_item = burnt garlic tonkotsu ramen\nline_item_id = 74038, date = 12-31-2018, credit_card_number = 7362804082005607, quantity = 2, menu_item = burnt garlic tonkotsu ramen\nline_item_id = 74039, date = 12-31-2018, credit_card_number = 4469105551669677, quantity = 3, menu_item = nagomi shoyu\nline_item_id = 74040, date = 12-31-2018, credit_card_number = 4469105551669677, quantity = 3, menu_item = nagomi shoyu\nline_item_id = 74041, date = 12-31-2018, credit_card_number = 6579405517198096, quantity = 1, menu_item = tori paitan ramen\nline_item_id = 74042, date = 12-31-2018, credit_card_number = 6579405517198096, quantity = 1, menu_item = tori paitan ramen\nline_item_id = 74043, date = 12-31-2018, credit_card_number = 2104551880811024, quantity = 4, menu_item = spicy miso ramen\nline_item_id = 74044, date = 12-31-2018, credit_card_number = 2104551880811024, quantity = 4, menu_item = spicy miso ramen\nline_item_id = 74045, date = 12-31-2018, credit_card_number = 4150598284813409, quantity = 1, menu_item = vegetarian curry + king trumpet mushroom ramen\nline_item_id = 74046, date = 12-31-2018, credit_card_number = 4150598284813409, quantity = 1, menu_item = vegetarian curry + king trumpet mushroom ramen\nline_item_id = 74047, date = 12-31-2018, credit_card_number = 2562424383466255, quantity = 1, menu_item = nagomi shoyu\nline_item_id = 74048, date = 12-31-2018, credit_card_number = 2562424383466255, quantity = 1, menu_item = nagomi shoyu\nline_item_id = 74049, date = 12-31-2018, credit_card_number = 7271712079983674, quantity = 1, menu_item = tori paitan ramen\nline_item_id = 74050, date = 12-31-2018, credit_card_number = 7271712079983674, quantity = 1, menu_item = tori paitan ramen\nline_item_id = 74051, date = 12-31-2018, credit_card_number = 9253113418778025, quantity = 1, menu_item = burnt garlic tonkotsu ramen\nline_item_id = 74052, date = 12-31-2018, credit_card_number = 9253113418778025, quantity = 1, menu_item = burnt garlic tonkotsu ramen\nline_item_id = 74053, date = 12-31-2018, credit_card_number = 1660710537850732, quantity = 1, menu_item = miso crab ramen\nline_item_id = 74054, date = 12-31-2018, credit_card_number = 1660710537850732, quantity = 1, menu_item = miso crab ramen\nline_item_id = 74055, date = 12-31-2018, credit_card_number = 7656540884800478, quantity = 2, menu_item = truffle butter ramen\nline_item_id = 74056, date = 12-31-2018, credit_card_number = 7656540884800478, quantity = 2, menu_item = truffle butter ramen\nline_item_id = 74057, date = 12-31-2018, credit_card_number = 4071878107358617, quantity = 3, menu_item = soft-shell miso crab ramen\nline_item_id = 74058, date = 12-31-2018, credit_card_number = 4071878107358617, quantity = 3, menu_item = soft-shell miso crab ramen\nline_item_id = 74059, date = 12-31-2018, credit_card_number = 3199373106777395, quantity = 2, menu_item = burnt garlic tonkotsu ramen\nline_item_id = 74060, date = 12-31-2018, credit_card_number = 3199373106777395, quantity = 2, menu_item = burnt garlic tonkotsu ramen\nline_item_id = 74061, date = 12-31-2018, credit_card_number = 2447882037183862, quantity = 1, menu_item = nagomi shoyu\nline_item_id = 74062, date = 12-31-2018, credit_card_number = 2447882037183862, quantity = 1, menu_item = nagomi shoyu\nline_item_id = 74063, date = 12-31-2018, credit_card_number = 4396016557422914, quantity = 1, menu_item = shio ramen\nline_item_id = 74064, date = 12-31-2018, credit_card_number = 4396016557422914, quantity = 1, menu_item = shio ramen\nline_item_id = 74065, date = 12-31-2018, credit_card_number = 344806023086415, quantity = 1, menu_item = nagomi shoyu\nline_item_id = 74066, date = 12-31-2018, credit_card_number = 344806023086415, quantity = 1, menu_item = nagomi shoyu\nline_item_id = 74067, date = 12-31-2018, credit_card_number = 1430752416248108, quantity = 1, menu_item = burnt garlic tonkotsu ramen\nline_item_id = 74068, date = 12-31-2018, credit_card_number = 1430752416248108, quantity = 1, menu_item = burnt garlic tonkotsu ramen\nline_item_id = 74069, date = 12-31-2018, credit_card_number = 9641894213232480, quantity = 1, menu_item = miso crab ramen\nline_item_id = 74070, date = 12-31-2018, credit_card_number = 9641894213232480, quantity = 1, menu_item = miso crab ramen\nline_item_id = 74071, date = 12-31-2018, credit_card_number = 4549170897530748, quantity = 4, menu_item = burnt garlic tonkotsu ramen\nline_item_id = 74072, date = 12-31-2018, credit_card_number = 4549170897530748, quantity = 4, menu_item = burnt garlic tonkotsu ramen\nline_item_id = 74073, date = 12-31-2018, credit_card_number = 2671445923448828, quantity = 4, menu_item = miso crab ramen\nline_item_id = 74074, date = 12-31-2018, credit_card_number = 2671445923448828, quantity = 4, menu_item = miso crab ramen\nline_item_id = 74075, date = 12-31-2018, credit_card_number = 6114674334051074, quantity = 1, menu_item = miso crab ramen\nline_item_id = 74076, date = 12-31-2018, credit_card_number = 6114674334051074, quantity = 1, menu_item = miso crab ramen\nline_item_id = 74077, date = 12-31-2018, credit_card_number = 2614269119368992, quantity = 1, menu_item = burnt garlic tonkotsu ramen\nline_item_id = 74078, date = 12-31-2018, credit_card_number = 2614269119368992, quantity = 1, menu_item = burnt garlic tonkotsu ramen\nline_item_id = 74079, date = 12-31-2018, credit_card_number = 2606053549476760, quantity = 1, menu_item = tori paitan ramen\nline_item_id = 74080, date = 12-31-2018, credit_card_number = 2606053549476760, quantity = 1, menu_item = tori paitan ramen\nline_item_id = 74081, date = 12-31-2018, credit_card_number = 1743945407975502, quantity = 1, menu_item = spicy miso ramen\nline_item_id = 74082, date = 12-31-2018, credit_card_number = 1743945407975502, quantity = 1, menu_item = spicy miso ramen\nline_item_id = 74083, date = 12-31-2018, credit_card_number = 9112067238589258, quantity = 1, menu_item = truffle butter ramen\nline_item_id = 74084, date = 12-31-2018, credit_card_number = 9112067238589258, quantity = 1, menu_item = truffle butter ramen\nline_item_id = 74085, date = 12-31-2018, credit_card_number = 9803783656690951, quantity = 1, menu_item = vegetarian curry + king trumpet mushroom ramen\nline_item_id = 74086, date = 12-31-2018, credit_card_number = 9803783656690951, quantity = 1, menu_item = vegetarian curry + king trumpet mushroom ramen\nline_item_id = 74087, date = 12-31-2018, credit_card_number = 3982461499707633, quantity = 1, menu_item = tori paitan ramen\nline_item_id = 74088, date = 12-31-2018, credit_card_number = 3982461499707633, quantity = 1, menu_item = tori paitan ramen\nline_item_id = 74089, date = 12-31-2018, credit_card_number = 4475582533506498, quantity = 1, menu_item = vegetarian spicy miso\nline_item_id = 74090, date = 12-31-2018, credit_card_number = 4475582533506498, quantity = 1, menu_item = vegetarian spicy miso\nline_item_id = 74091, date = 12-31-2018, credit_card_number = 5548757629530940, quantity = 1, menu_item = shio ramen\nline_item_id = 74092, date = 12-31-2018, credit_card_number = 5548757629530940, quantity = 1, menu_item = shio ramen\nline_item_id = 74093, date = 12-31-2018, credit_card_number = 7764278947998083, quantity = 1, menu_item = miso crab ramen\nline_item_id = 74094, date = 12-31-2018, credit_card_number = 7764278947998083, quantity = 1, menu_item = miso crab ramen\nline_item_id = 74095, date = 12-31-2018, credit_card_number = 4071127199442847, quantity = 1, menu_item = vegetarian spicy miso\nline_item_id = 74096, date = 12-31-2018, credit_card_number = 4071127199442847, quantity = 1, menu_item = vegetarian spicy miso\nline_item_id = 74097, date = 12-31-2018, credit_card_number = 1412285699513073, quantity = 2, menu_item = nagomi shoyu\nline_item_id = 74098, date = 12-31-2018, credit_card_number = 1412285699513073, quantity = 2, menu_item = nagomi shoyu\nline_item_id = 74099, date = 12-31-2018, credit_card_number = 3274643652273312, quantity = 1, menu_item = tonkotsu ramen\nline_item_id = 74100, date = 12-31-2018, credit_card_number = 3274643652273312, quantity = 1, menu_item = tonkotsu ramen\nline_item_id = 74101, date = 12-31-2018, credit_card_number = 5443168464731638, quantity = 1, menu_item = truffle butter ramen\nline_item_id = 74102, date = 12-31-2018, credit_card_number = 5443168464731638, quantity = 1, menu_item = truffle butter ramen\nline_item_id = 74103, date = 12-31-2018, credit_card_number = 8614644370397100, quantity = 1, menu_item = tonkotsu ramen\nline_item_id = 74104, date = 12-31-2018, credit_card_number = 8614644370397100, quantity = 1, menu_item = tonkotsu ramen\nline_item_id = 74105, date = 12-31-2018, credit_card_number = 9794251638634207, quantity = 1, menu_item = shio ramen\nline_item_id = 74106, date = 12-31-2018, credit_card_number = 9794251638634207, quantity = 1, menu_item = shio ramen\nline_item_id = 74107, date = 12-31-2018, credit_card_number = 3906983012249654, quantity = 1, menu_item = soft-shell miso crab ramen\nline_item_id = 74108, date = 12-31-2018, credit_card_number = 3906983012249654, quantity = 1, menu_item = soft-shell miso crab ramen\nline_item_id = 74109, date = 12-31-2018, credit_card_number = 4683388751179558, quantity = 1, menu_item = burnt garlic tonkotsu ramen\nline_item_id = 74110, date = 12-31-2018, credit_card_number = 4683388751179558, quantity = 1, menu_item = burnt garlic tonkotsu ramen\nline_item_id = 74111, date = 12-31-2018, credit_card_number = 4374384682408516, quantity = 1, menu_item = truffle butter ramen\nline_item_id = 74112, date = 12-31-2018, credit_card_number = 4374384682408516, quantity = 1, menu_item = truffle butter ramen\nline_item_id = 74113, date = 12-31-2018, credit_card_number = 5656600815381513, quantity = 2, menu_item = miso crab ramen\nline_item_id = 74114, date = 12-31-2018, credit_card_number = 5656600815381513, quantity = 2, menu_item = miso crab ramen\nline_item_id = 74115, date = 12-31-2018, credit_card_number = 73896627135443, quantity = 1, menu_item = nagomi shoyu\nline_item_id = 74116, date = 12-31-2018, credit_card_number = 73896627135443, quantity = 1, menu_item = nagomi shoyu\nline_item_id = 74117, date = 12-31-2018, credit_card_number = 1504475454920480, quantity = 1, menu_item = tori paitan ramen\nline_item_id = 74118, date = 12-31-2018, credit_card_number = 1504475454920480, quantity = 1, menu_item = tori paitan ramen\nline_item_id = 74119, date = 12-31-2018, credit_card_number = 1697055332228941, quantity = 4, menu_item = tonkotsu ramen\nline_item_id = 74120, date = 12-31-2018, credit_card_number = 1697055332228941, quantity = 4, menu_item = tonkotsu ramen\nline_item_id = 74121, date = 12-31-2018, credit_card_number = 6800009643487106, quantity = 1, menu_item = vegetarian spicy miso\nline_item_id = 74122, date = 12-31-2018, credit_card_number = 6800009643487106, quantity = 1, menu_item = vegetarian spicy miso\nline_item_id = 74123, date = 12-31-2018, credit_card_number = 5981057609583653, quantity = 2, menu_item = spicy miso ramen\nline_item_id = 74124, date = 12-31-2018, credit_card_number = 5981057609583653, quantity = 2, menu_item = spicy miso ramen\n"
    }
   ],
   "source": [
    "for sale in sales:\n",
    "    line_item_id = sale[0]\n",
    "    date = sale[1]\n",
    "    credit_card_number = sale[2]\n",
    "    quantity = int(sale[3])\n",
    "    menu_item = sale[4]\n",
    "    if menu_item not in report:\n",
    "        price, cost = get_details(menu_item)\n",
    "        report[menu_item] = {\n",
    "            \"01-count\" : quantity,\n",
    "            \"02-revenue\" : price,\n",
    "            \"03-cogs\" : cost,\n",
    "            \"04-profit\" : price-cost\n",
    "        }\n",
    "    else:\n",
    "        price, cost = get_details(menu_item)\n",
    "        report[menu_item] = {\n",
    "            \"01-count\" : report[menu_item][\"01-count\"] + quantity,\n",
    "            \"02-revenue\" : report[menu_item][\"02-revenue\"] + price,\n",
    "            \"03-cogs\" : report[menu_item][\"03-cogs\"] + cost,\n",
    "            \"04-profit\" : report[menu_item][\"04-profit\"] + (price-cost)\n",
    "        }\n",
    "    print(f\"line_item_id = {line_item_id}, date = {date}, credit_card_number = {credit_card_number}, quantity = {quantity}, menu_item = {menu_item}\")"
   ]
  },
  {
   "cell_type": "code",
   "execution_count": 24,
   "metadata": {
    "tags": []
   },
   "outputs": [
    {
     "output_type": "stream",
     "name": "stdout",
     "text": "{'spicy miso ramen': {'01-count': 18476, '02-revenue': 81624, '03-cogs': 34010, '04-profit': 47614}, 'tori paitan ramen': {'01-count': 18312, '02-revenue': 88634, '03-cogs': 40908, '04-profit': 47726}, 'truffle butter ramen': {'01-count': 17964, '02-revenue': 94164, '03-cogs': 47082, '04-profit': 47082}, 'tonkotsu ramen': {'01-count': 18576, '02-revenue': 88400, '03-cogs': 40800, '04-profit': 47600}, 'vegetarian spicy miso': {'01-count': 18432, '02-revenue': 81864, '03-cogs': 34110, '04-profit': 47754}, 'shio ramen': {'01-count': 18360, '02-revenue': 74184, '03-cogs': 33720, '04-profit': 40464}, 'miso crab ramen': {'01-count': 17780, '02-revenue': 78648, '03-cogs': 39324, '04-profit': 39324}, 'nagomi shoyu': {'01-count': 18264, '02-revenue': 73260, '03-cogs': 33300, '04-profit': 39960}, 'soft-shell miso crab ramen': {'01-count': 18260, '02-revenue': 94388, '03-cogs': 47194, '04-profit': 47194}, 'burnt garlic tonkotsu ramen': {'01-count': 18140, '02-revenue': 94780, '03-cogs': 40620, '04-profit': 54160}, 'vegetarian curry + king trumpet mushroom ramen': {'01-count': 17648, '02-revenue': 86918, '03-cogs': 46802, '04-profit': 40116}}\n"
    }
   ],
   "source": [
    "report_path = Path(\"./data/report.txt\")\n",
    "with open(report_path, 'w') as report_file:\n",
    "    report_file.write(str(report))\n",
    "print(report)"
   ]
  },
  {
   "cell_type": "code",
   "execution_count": null,
   "metadata": {},
   "outputs": [],
   "source": []
  }
 ],
 "metadata": {
  "kernelspec": {
   "display_name": "Python 3.8.6 64-bit",
   "language": "python",
   "name": "python38664bitd6abc9e8557f4b7ea9ebfc9f4611fd55"
  },
  "language_info": {
   "codemirror_mode": {
    "name": "ipython",
    "version": 3
   },
   "file_extension": ".py",
   "mimetype": "text/x-python",
   "name": "python",
   "nbconvert_exporter": "python",
   "pygments_lexer": "ipython3",
   "version": "3.8.6-final"
  }
 },
 "nbformat": 4,
 "nbformat_minor": 4
}